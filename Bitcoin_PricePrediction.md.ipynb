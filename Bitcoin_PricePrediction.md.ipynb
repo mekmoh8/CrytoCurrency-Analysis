{
 "cells": [
  {
   "cell_type": "markdown",
   "metadata": {},
   "source": [
    "# CryptoCurrency Price Prediction\n",
    "\n",
    "SUMMARY\n",
    "\n",
    "Blockchain technology is a decentralized database system that was first implemented by Bitcoin. Created by a mysterious person (or group), Blockchain has a very high tendency to transform modern day business operation models. As Bitcoin gains more traction, people keep coming up with alternate coins that are also based on Blockchain technology.\n",
    "\n",
    "Initial Questions:-\n",
    "\n",
    "1.   What affects the crypto price?\n",
    "2.   When Bitcoin spikes, does every other coin spike? \n",
    "3.   Does social media affect crypto prices?\n",
    "\n",
    "The goal is to find a model where we can predit the value of Cryptocoin considering all the factors which influences the price.\n",
    "\n",
    "\n",
    "APPROACH:\n",
    "\n",
    "1. Initial Data Exploration (Data Wrangling): \n",
    "   a. Compare multiple coins to see if there's a corelation in the price. \n",
    "      Used CryptoCompare.com to get daily (hourly) price data for different coins.For now, only 'BTC', 'ETH' is considered.\n",
    "   b. Get google trends using Pytrends API, search = 'CryptoCurrency' to see how it affects price.\n",
    "   c. Twitter sentiment analysis to see how it affects price\n",
    "      \n",
    " Employ Python technologies to import and inspect the raw data, isolate relevant variables, calculate new variables, \n",
    " organize the dataframe, and resolve missing, invalid, corrupted or duplicate values. \n",
    "\n",
    " Begin creating data visualizations to inspect variables and analyze outliers.\n",
    "   \n",
    "   \n",
    "2. Exploratory Data Analysis: \n",
    "   Continue with data visualization, using plots to gain insights, look for correlations, consider a hypothesis to explore,  then leverage statistical inference to test the hypothesis.\n",
    "   Included factors that infuence Bitcoin price:-\n",
    "    a.  Analyze other cryptocurrencies to see if there's a correlation (CompareCoins.ipynb)\n",
    "    b.  Analyze Reddit Metrics(Reddit Metrics.ipynb)\n",
    "    c.  Analyze Google trends(Google trends.ipynb)\n",
    "    d.  Analyze Stock Market Prices(Stock Market.ipynb)\n",
    "    e.  Analyze Commodity Prices(Commodity.ipynb)\n",
    "    f.  Analyze Oil Prices(Oil Prices.ipynb)\n",
    "\n",
    "3. Machine Learning Analysis: Apply (to-be-determined) machine learning algorithms, evaluating the performance of each, and decide on the right one to use for this study.\n",
    "\n",
    "4. Final Reports & Presentations\n",
    "\n",
    "\n",
    "DATA SOURCES:\n",
    "\n",
    "1. CryptoCompare\n",
    "2. Quandl \n",
    "3. Google Trends using Pytrends API\n",
    "4. Twitter data using API\n",
    "5. Stock Market Prices\n",
    "6. Commodity Prices\n",
    "7. Oil Prices\n",
    "8. Reddit Metrics\n",
    "\n"
   ]
  },
  {
   "cell_type": "code",
   "execution_count": 171,
   "metadata": {},
   "outputs": [],
   "source": [
    "# Getting price data of BTC and ETH using Cryptocompare API\n",
    "\n",
    "import requests\n",
    "import json\n",
    "import pandas as pd\n",
    "from pandas.io.json import json_normalize\n",
    "import datetime\n",
    "\n",
    "# Indicate how many rows of data here\n",
    "lim = '10000' \n",
    "crypto_coin = ['BTC', 'ETH']\n",
    "crypto_data = pd.DataFrame()\n",
    "for i in crypto_coin:\n",
    "    URL = 'https://min-api.cryptocompare.com/data/histohour?fsym='+i+'&tsym=USD&limit='+lim\n",
    "   \n",
    "    data = requests.get(URL)\n",
    "    json_data = data.json()\n",
    "\n",
    "    table = json_normalize(json_data, 'Data').set_index('time')\n",
    "    table.index = pd.to_datetime(table.index,unit='s')  #UNIX Epoch time\n",
    "    crypto_data = pd.concat([crypto_data, table.high], axis=1)  ### Take just the 'High' column for a coin\n",
    "crypto_data.columns = crypto_coin"
   ]
  },
  {
   "cell_type": "code",
   "execution_count": 172,
   "metadata": {},
   "outputs": [
    {
     "data": {
      "text/html": [
       "<div>\n",
       "<style scoped>\n",
       "    .dataframe tbody tr th:only-of-type {\n",
       "        vertical-align: middle;\n",
       "    }\n",
       "\n",
       "    .dataframe tbody tr th {\n",
       "        vertical-align: top;\n",
       "    }\n",
       "\n",
       "    .dataframe thead th {\n",
       "        text-align: right;\n",
       "    }\n",
       "</style>\n",
       "<table border=\"1\" class=\"dataframe\">\n",
       "  <thead>\n",
       "    <tr style=\"text-align: right;\">\n",
       "      <th></th>\n",
       "      <th>BTC</th>\n",
       "      <th>ETH</th>\n",
       "    </tr>\n",
       "    <tr>\n",
       "      <th>time</th>\n",
       "      <th></th>\n",
       "      <th></th>\n",
       "    </tr>\n",
       "  </thead>\n",
       "  <tbody>\n",
       "    <tr>\n",
       "      <th>2018-01-30 16:00:00</th>\n",
       "      <td>10491.16</td>\n",
       "      <td>1123.15</td>\n",
       "    </tr>\n",
       "    <tr>\n",
       "      <th>2018-01-30 17:00:00</th>\n",
       "      <td>10489.18</td>\n",
       "      <td>1124.42</td>\n",
       "    </tr>\n",
       "    <tr>\n",
       "      <th>2018-01-30 18:00:00</th>\n",
       "      <td>10257.49</td>\n",
       "      <td>1098.50</td>\n",
       "    </tr>\n",
       "    <tr>\n",
       "      <th>2018-01-30 19:00:00</th>\n",
       "      <td>10372.25</td>\n",
       "      <td>1096.46</td>\n",
       "    </tr>\n",
       "    <tr>\n",
       "      <th>2018-01-30 20:00:00</th>\n",
       "      <td>10301.59</td>\n",
       "      <td>1095.24</td>\n",
       "    </tr>\n",
       "  </tbody>\n",
       "</table>\n",
       "</div>"
      ],
      "text/plain": [
       "                          BTC      ETH\n",
       "time                                  \n",
       "2018-01-30 16:00:00  10491.16  1123.15\n",
       "2018-01-30 17:00:00  10489.18  1124.42\n",
       "2018-01-30 18:00:00  10257.49  1098.50\n",
       "2018-01-30 19:00:00  10372.25  1096.46\n",
       "2018-01-30 20:00:00  10301.59  1095.24"
      ]
     },
     "execution_count": 172,
     "metadata": {},
     "output_type": "execute_result"
    }
   ],
   "source": [
    "#Read the first 5 records\n",
    "crypto_data.head(5)"
   ]
  },
  {
   "cell_type": "code",
   "execution_count": 173,
   "metadata": {},
   "outputs": [
    {
     "data": {
      "text/html": [
       "<div>\n",
       "<style scoped>\n",
       "    .dataframe tbody tr th:only-of-type {\n",
       "        vertical-align: middle;\n",
       "    }\n",
       "\n",
       "    .dataframe tbody tr th {\n",
       "        vertical-align: top;\n",
       "    }\n",
       "\n",
       "    .dataframe thead th {\n",
       "        text-align: right;\n",
       "    }\n",
       "</style>\n",
       "<table border=\"1\" class=\"dataframe\">\n",
       "  <thead>\n",
       "    <tr style=\"text-align: right;\">\n",
       "      <th></th>\n",
       "      <th>BTC</th>\n",
       "      <th>ETH</th>\n",
       "    </tr>\n",
       "    <tr>\n",
       "      <th>time</th>\n",
       "      <th></th>\n",
       "      <th></th>\n",
       "    </tr>\n",
       "  </thead>\n",
       "  <tbody>\n",
       "    <tr>\n",
       "      <th>2018-04-23 20:00:00</th>\n",
       "      <td>8959.90</td>\n",
       "      <td>639.82</td>\n",
       "    </tr>\n",
       "    <tr>\n",
       "      <th>2018-04-23 21:00:00</th>\n",
       "      <td>8963.21</td>\n",
       "      <td>640.64</td>\n",
       "    </tr>\n",
       "    <tr>\n",
       "      <th>2018-04-23 22:00:00</th>\n",
       "      <td>8976.09</td>\n",
       "      <td>643.54</td>\n",
       "    </tr>\n",
       "    <tr>\n",
       "      <th>2018-04-23 23:00:00</th>\n",
       "      <td>8969.62</td>\n",
       "      <td>644.16</td>\n",
       "    </tr>\n",
       "    <tr>\n",
       "      <th>2018-04-24 00:00:00</th>\n",
       "      <td>8988.30</td>\n",
       "      <td>647.28</td>\n",
       "    </tr>\n",
       "  </tbody>\n",
       "</table>\n",
       "</div>"
      ],
      "text/plain": [
       "                         BTC     ETH\n",
       "time                                \n",
       "2018-04-23 20:00:00  8959.90  639.82\n",
       "2018-04-23 21:00:00  8963.21  640.64\n",
       "2018-04-23 22:00:00  8976.09  643.54\n",
       "2018-04-23 23:00:00  8969.62  644.16\n",
       "2018-04-24 00:00:00  8988.30  647.28"
      ]
     },
     "execution_count": 173,
     "metadata": {},
     "output_type": "execute_result"
    }
   ],
   "source": [
    "#Read the last 5 records\n",
    "crypto_data.tail(5)"
   ]
  },
  {
   "cell_type": "code",
   "execution_count": 174,
   "metadata": {},
   "outputs": [],
   "source": [
    "# Getting data from Google Trends using Pytrends API\n",
    "from pytrends.request import TrendReq\n",
    "# Login to Google. Only need to run this once\n",
    "pytrend = TrendReq()\n",
    "# Create payload and capture API tokens. \n",
    "# keyword = 'cryptocurrency', cathegory = 16 (news), timeframe- limit range to 4 months to get daily data\n",
    "pytrend.build_payload(kw_list=['cryptocurrency'], cat=16, timeframe='2018-01-01 2018-04-23')  \n",
    "\n",
    "crypto_ggtrends = pytrend.interest_over_time()\n",
    "\n",
    "# Upsampling daily data to hourly data\n",
    "crypto_ggtrends = crypto_ggtrends.resample('1h').pad().drop(['isPartial'], axis='columns')\n",
    "crypto_ggtrends.columns = ['SearchFrequency']\n"
   ]
  },
  {
   "cell_type": "code",
   "execution_count": 175,
   "metadata": {},
   "outputs": [
    {
     "name": "stdout",
     "output_type": "stream",
     "text": [
      "                     SearchFrequency\n",
      "date                                \n",
      "2018-01-01 00:00:00               14\n",
      "2018-01-01 01:00:00               14\n",
      "2018-01-01 02:00:00               14\n",
      "2018-01-01 03:00:00               14\n",
      "2018-01-01 04:00:00               14\n"
     ]
    }
   ],
   "source": [
    "print(crypto_ggtrends.head(5))"
   ]
  },
  {
   "cell_type": "code",
   "execution_count": 176,
   "metadata": {},
   "outputs": [
    {
     "name": "stdout",
     "output_type": "stream",
     "text": [
      "                     SearchFrequency\n",
      "date                                \n",
      "2018-04-20 20:00:00                9\n",
      "2018-04-20 21:00:00                9\n",
      "2018-04-20 22:00:00                9\n",
      "2018-04-20 23:00:00                9\n",
      "2018-04-21 00:00:00                9\n"
     ]
    }
   ],
   "source": [
    "print(crypto_ggtrends.tail(5))"
   ]
  },
  {
   "cell_type": "code",
   "execution_count": 177,
   "metadata": {},
   "outputs": [
    {
     "name": "stdout",
     "output_type": "stream",
     "text": [
      "                          BTC      ETH  SearchFrequency\n",
      "time                                                   \n",
      "2018-01-30 16:00:00  10491.16  1123.15             26.0\n",
      "2018-01-30 17:00:00  10489.18  1124.42             26.0\n",
      "2018-01-30 18:00:00  10257.49  1098.50             26.0\n",
      "2018-01-30 19:00:00  10372.25  1096.46             26.0\n",
      "2018-01-30 20:00:00  10301.59  1095.24             26.0\n"
     ]
    }
   ],
   "source": [
    "# Joining two data frames\n",
    "\n",
    "crypto_combined = pd.concat([crypto_data, crypto_ggtrends], axis=1).dropna(how='any')   ### Remove NaN \n",
    "crypto_combined_s = crypto_combined.copy(deep=True)\n",
    "print(crypto_combined_s.head(5))"
   ]
  },
  {
   "cell_type": "code",
   "execution_count": 178,
   "metadata": {},
   "outputs": [],
   "source": [
    "# Feature Scaling. This will capture trend information and makes visualization more meaningful\n",
    "\n",
    "from sklearn.preprocessing import StandardScaler\n",
    "sc_x = StandardScaler()\n",
    "crypto_combined_s['BTC'] = sc_x.fit_transform(crypto_combined_s['BTC'].values.reshape(-1,1))\n",
    "crypto_combined_s['ETH'] = sc_x.fit_transform(crypto_combined_s['ETH'].values.reshape(-1,1))\n",
    "crypto_combined_s['SearchFrequency'] = sc_x.fit_transform(crypto_combined_s['SearchFrequency'].values.reshape(-1,1))"
   ]
  },
  {
   "cell_type": "code",
   "execution_count": 179,
   "metadata": {},
   "outputs": [
    {
     "data": {
      "image/png": "[encoded data removed]",
      "text/plain": [
       "<matplotlib.figure.Figure at 0x23e8f40b668>"
      ]
     },
     "metadata": {},
     "output_type": "display_data"
    }
   ],
   "source": [
    "# Plot 1- scaled overlay plot of ETH/BTC prices \n",
    "%matplotlib inline\n",
    "import matplotlib.pyplot as plt\n",
    "import seaborn as sns\n",
    "sns.set()\n",
    "plt.plot(crypto_combined_s.index, crypto_combined_s['ETH'], color='blue')\n",
    "plt.plot(crypto_combined_s.index, crypto_combined_s['BTC'], color='green')\n",
    "plt.plot(crypto_combined_s.index, crypto_combined_s['SearchFrequency'], color='red')\n",
    "plt.legend(loc='upper left')\n",
    "plt.xlabel('Time')\n",
    "plt.ylabel('Prices')\n",
    "plt.title('Plot 1')\n",
    "plt.show()"
   ]
  },
  {
   "cell_type": "code",
   "execution_count": 180,
   "metadata": {},
   "outputs": [
    {
     "data": {
      "image/png": "[encoded data removed]",
      "text/plain": [
       "<matplotlib.figure.Figure at 0x23e8f578198>"
      ]
     },
     "metadata": {},
     "output_type": "display_data"
    }
   ],
   "source": [
    "# Plot 2- scaled overlay plot of ETC/BTC prices and GoogleNews search frequency data in 20 days timespand (during drop)\n",
    "\n",
    "plt.plot(crypto_combined_s.index, crypto_combined_s['ETH'], color='blue')\n",
    "plt.plot(crypto_combined_s.index, crypto_combined_s['BTC'], color='green')\n",
    "plt.plot(crypto_combined_s.index, crypto_combined_s['SearchFrequency'], color='red')\n",
    "plt.xlim(('2018-02-01', '2018-02-20'))\n",
    "plt.legend(loc='lower left')\n",
    "plt.xlabel('Time')\n",
    "plt.ylabel('Prices & Search Frequency (scaled)')\n",
    "plt.title('Plot 2')\n",
    "plt.show()\n",
    "\n"
   ]
  },
  {
   "cell_type": "code",
   "execution_count": 112,
   "metadata": {},
   "outputs": [],
   "source": [
    "import re\n",
    "def clean_tweet(tweet):\n",
    "        '''\n",
    "        Utility function to clean tweet text by removing links, special characters\n",
    "        using simple regex statements.\n",
    "        '''\n",
    "        #tweet = re.sub(r'RT', '', tweet)\n",
    "        return (' '.join(re.sub(\"(RT @[A-Za-z0-9]+)|([^0-9A-Za-z \\t])|(\\w+:\\/\\/\\S+)\", \" \", tweet).split()) )"
   ]
  },
  {
   "cell_type": "code",
   "execution_count": 113,
   "metadata": {},
   "outputs": [],
   "source": [
    "import pandas as pd\n",
    "import numpy as np\n",
    "from vaderSentiment.vaderSentiment import SentimentIntensityAnalyzer\n",
    "\n",
    "tweets_data_df = pd.read_json('2018_Apr_19_20_Tweets.json', orient = 'records', lines = True)\n",
    "\n",
    "tweets_df = pd.DataFrame()\n",
    "tweets_df['created_at'] = pd.to_datetime(tweets_data_df['created_at'])\n",
    "tweets_df['text'] = tweets_data_df['text']\n",
    "analyser = SentimentIntensityAnalyzer()\n",
    "pos = []\n",
    "neg = []\n",
    "neu = []\n",
    "comp = []\n",
    "\n",
    "\n",
    "for index, row in tweets_df.iterrows():\n",
    "    snt = analyser.polarity_scores(clean_tweet(row['text']))\n",
    "    pos.append(snt['pos'])\n",
    "    neg.append(snt['neg'])\n",
    "    neu.append(snt['neu'])\n",
    "    comp.append(snt['compound'])\n",
    "    \n",
    "tweets_df['pos_snt'] = pos   \n",
    "tweets_df['neg_snt'] = neg \n",
    "tweets_df['neu_snt'] = neu \n",
    "tweets_df['comp_snt'] = comp "
   ]
  },
  {
   "cell_type": "code",
   "execution_count": 114,
   "metadata": {},
   "outputs": [
    {
     "data": {
      "text/html": [
       "<div>\n",
       "<style scoped>\n",
       "    .dataframe tbody tr th:only-of-type {\n",
       "        vertical-align: middle;\n",
       "    }\n",
       "\n",
       "    .dataframe tbody tr th {\n",
       "        vertical-align: top;\n",
       "    }\n",
       "\n",
       "    .dataframe thead th {\n",
       "        text-align: right;\n",
       "    }\n",
       "</style>\n",
       "<table border=\"1\" class=\"dataframe\">\n",
       "  <thead>\n",
       "    <tr style=\"text-align: right;\">\n",
       "      <th></th>\n",
       "      <th>created_at</th>\n",
       "      <th>text</th>\n",
       "      <th>pos_snt</th>\n",
       "      <th>neg_snt</th>\n",
       "      <th>neu_snt</th>\n",
       "      <th>comp_snt</th>\n",
       "    </tr>\n",
       "  </thead>\n",
       "  <tbody>\n",
       "    <tr>\n",
       "      <th>0</th>\n",
       "      <td>2018-04-20 23:59:59</td>\n",
       "      <td>RT @datareum: We are listed on: https://t.co/4...</td>\n",
       "      <td>0.000</td>\n",
       "      <td>0.0</td>\n",
       "      <td>1.000</td>\n",
       "      <td>0.0000</td>\n",
       "    </tr>\n",
       "    <tr>\n",
       "      <th>1</th>\n",
       "      <td>2018-04-20 23:59:59</td>\n",
       "      <td>RT @Aruwba: I'm growing a bush 😽 Come see the ...</td>\n",
       "      <td>0.102</td>\n",
       "      <td>0.0</td>\n",
       "      <td>0.898</td>\n",
       "      <td>0.1779</td>\n",
       "    </tr>\n",
       "    <tr>\n",
       "      <th>2</th>\n",
       "      <td>2018-04-20 23:59:58</td>\n",
       "      <td>Live improvisé ! Let's talk about Bitcoin http...</td>\n",
       "      <td>0.000</td>\n",
       "      <td>0.0</td>\n",
       "      <td>1.000</td>\n",
       "      <td>0.0000</td>\n",
       "    </tr>\n",
       "  </tbody>\n",
       "</table>\n",
       "</div>"
      ],
      "text/plain": [
       "           created_at                                               text  \\\n",
       "0 2018-04-20 23:59:59  RT @datareum: We are listed on: https://t.co/4...   \n",
       "1 2018-04-20 23:59:59  RT @Aruwba: I'm growing a bush 😽 Come see the ...   \n",
       "2 2018-04-20 23:59:58  Live improvisé ! Let's talk about Bitcoin http...   \n",
       "\n",
       "   pos_snt  neg_snt  neu_snt  comp_snt  \n",
       "0    0.000      0.0    1.000    0.0000  \n",
       "1    0.102      0.0    0.898    0.1779  \n",
       "2    0.000      0.0    1.000    0.0000  "
      ]
     },
     "execution_count": 114,
     "metadata": {},
     "output_type": "execute_result"
    }
   ],
   "source": [
    "tweets_df.head(3)"
   ]
  },
  {
   "cell_type": "code",
   "execution_count": 115,
   "metadata": {},
   "outputs": [
    {
     "data": {
      "text/html": [
       "<div>\n",
       "<style scoped>\n",
       "    .dataframe tbody tr th:only-of-type {\n",
       "        vertical-align: middle;\n",
       "    }\n",
       "\n",
       "    .dataframe tbody tr th {\n",
       "        vertical-align: top;\n",
       "    }\n",
       "\n",
       "    .dataframe thead th {\n",
       "        text-align: right;\n",
       "    }\n",
       "</style>\n",
       "<table border=\"1\" class=\"dataframe\">\n",
       "  <thead>\n",
       "    <tr style=\"text-align: right;\">\n",
       "      <th></th>\n",
       "      <th>created_at</th>\n",
       "      <th>text</th>\n",
       "      <th>pos_snt</th>\n",
       "      <th>neg_snt</th>\n",
       "      <th>neu_snt</th>\n",
       "      <th>comp_snt</th>\n",
       "    </tr>\n",
       "  </thead>\n",
       "  <tbody>\n",
       "    <tr>\n",
       "      <th>5779</th>\n",
       "      <td>2018-04-18 23:20:23</td>\n",
       "      <td>RT @syscoin: #Syscoin 3.0 RC2 released to #Tes...</td>\n",
       "      <td>0.0</td>\n",
       "      <td>0.000</td>\n",
       "      <td>1.000</td>\n",
       "      <td>0.0000</td>\n",
       "    </tr>\n",
       "    <tr>\n",
       "      <th>5780</th>\n",
       "      <td>2018-04-18 23:20:21</td>\n",
       "      <td>Telegram’s Pavel Durov Is Using Bitcoin to Byp...</td>\n",
       "      <td>0.0</td>\n",
       "      <td>0.000</td>\n",
       "      <td>1.000</td>\n",
       "      <td>0.0000</td>\n",
       "    </tr>\n",
       "    <tr>\n",
       "      <th>5781</th>\n",
       "      <td>2018-04-18 23:20:20</td>\n",
       "      <td>Lathan Warlick – Kill It https://t.co/2KzaMec7...</td>\n",
       "      <td>0.0</td>\n",
       "      <td>0.485</td>\n",
       "      <td>0.515</td>\n",
       "      <td>-0.6908</td>\n",
       "    </tr>\n",
       "  </tbody>\n",
       "</table>\n",
       "</div>"
      ],
      "text/plain": [
       "              created_at                                               text  \\\n",
       "5779 2018-04-18 23:20:23  RT @syscoin: #Syscoin 3.0 RC2 released to #Tes...   \n",
       "5780 2018-04-18 23:20:21  Telegram’s Pavel Durov Is Using Bitcoin to Byp...   \n",
       "5781 2018-04-18 23:20:20  Lathan Warlick – Kill It https://t.co/2KzaMec7...   \n",
       "\n",
       "      pos_snt  neg_snt  neu_snt  comp_snt  \n",
       "5779      0.0    0.000    1.000    0.0000  \n",
       "5780      0.0    0.000    1.000    0.0000  \n",
       "5781      0.0    0.485    0.515   -0.6908  "
      ]
     },
     "execution_count": 115,
     "metadata": {},
     "output_type": "execute_result"
    }
   ],
   "source": [
    "tweets_df.tail(3)"
   ]
  },
  {
   "cell_type": "code",
   "execution_count": 116,
   "metadata": {},
   "outputs": [
    {
     "data": {
      "text/html": [
       "<div>\n",
       "<style scoped>\n",
       "    .dataframe tbody tr th:only-of-type {\n",
       "        vertical-align: middle;\n",
       "    }\n",
       "\n",
       "    .dataframe tbody tr th {\n",
       "        vertical-align: top;\n",
       "    }\n",
       "\n",
       "    .dataframe thead tr th {\n",
       "        text-align: left;\n",
       "    }\n",
       "\n",
       "    .dataframe thead tr:last-of-type th {\n",
       "        text-align: right;\n",
       "    }\n",
       "</style>\n",
       "<table border=\"1\" class=\"dataframe\">\n",
       "  <thead>\n",
       "    <tr>\n",
       "      <th></th>\n",
       "      <th>pos_snt</th>\n",
       "      <th>neg_snt</th>\n",
       "      <th>neu_snt</th>\n",
       "      <th>comp_snt</th>\n",
       "    </tr>\n",
       "    <tr>\n",
       "      <th></th>\n",
       "      <th>sum</th>\n",
       "      <th>sum</th>\n",
       "      <th>sum</th>\n",
       "      <th>sum</th>\n",
       "    </tr>\n",
       "    <tr>\n",
       "      <th>created_at</th>\n",
       "      <th></th>\n",
       "      <th></th>\n",
       "      <th></th>\n",
       "      <th></th>\n",
       "    </tr>\n",
       "  </thead>\n",
       "  <tbody>\n",
       "    <tr>\n",
       "      <th>2018-04-18</th>\n",
       "      <td>195.117</td>\n",
       "      <td>122.673</td>\n",
       "      <td>1706.218</td>\n",
       "      <td>140.0759</td>\n",
       "    </tr>\n",
       "    <tr>\n",
       "      <th>2018-04-19</th>\n",
       "      <td>175.060</td>\n",
       "      <td>72.779</td>\n",
       "      <td>1629.152</td>\n",
       "      <td>210.7927</td>\n",
       "    </tr>\n",
       "    <tr>\n",
       "      <th>2018-04-20</th>\n",
       "      <td>192.303</td>\n",
       "      <td>82.121</td>\n",
       "      <td>1606.592</td>\n",
       "      <td>248.4064</td>\n",
       "    </tr>\n",
       "  </tbody>\n",
       "</table>\n",
       "</div>"
      ],
      "text/plain": [
       "            pos_snt  neg_snt   neu_snt  comp_snt\n",
       "                sum      sum       sum       sum\n",
       "created_at                                      \n",
       "2018-04-18  195.117  122.673  1706.218  140.0759\n",
       "2018-04-19  175.060   72.779  1629.152  210.7927\n",
       "2018-04-20  192.303   82.121  1606.592  248.4064"
      ]
     },
     "execution_count": 116,
     "metadata": {},
     "output_type": "execute_result"
    }
   ],
   "source": [
    "df_new = tweets_df.groupby(tweets_df['created_at'].dt.to_period('D'))['pos_snt','neg_snt','neu_snt','comp_snt'].agg(['sum'])\n",
    "df_new"
   ]
  },
  {
   "cell_type": "code",
   "execution_count": 117,
   "metadata": {},
   "outputs": [],
   "source": [
    "import quandl\n",
    "price_data_df=[]"
   ]
  },
  {
   "cell_type": "code",
   "execution_count": 118,
   "metadata": {},
   "outputs": [],
   "source": [
    "# Read data into a DataFrame\n",
    "price_data_df = quandl.get('BCHARTS/KRAKENUSD', start_date=\"2018-04-18\", end_date=\"2018-04-20\")"
   ]
  },
  {
   "cell_type": "code",
   "execution_count": 134,
   "metadata": {},
   "outputs": [
    {
     "name": "stdout",
     "output_type": "stream",
     "text": [
      "<class 'pandas.core.frame.DataFrame'>\n",
      "PeriodIndex: 3 entries, 2018-04-18 to 2018-04-20\n",
      "Freq: D\n",
      "Data columns (total 7 columns):\n",
      "Open                 3 non-null float64\n",
      "High                 3 non-null float64\n",
      "Low                  3 non-null float64\n",
      "Close                3 non-null float64\n",
      "Volume (BTC)         3 non-null float64\n",
      "Volume (Currency)    3 non-null float64\n",
      "Weighted Price       3 non-null float64\n",
      "dtypes: float64(7)\n",
      "memory usage: 192.0 bytes\n"
     ]
    }
   ],
   "source": [
    "price_data_df\n",
    "\n",
    "price_data_df.set_index='Date'\n",
    "price_data_df.index = price_data_df.index.to_period(freq='D')\n",
    "\n",
    "price_data_df.info()"
   ]
  },
  {
   "cell_type": "code",
   "execution_count": 148,
   "metadata": {},
   "outputs": [
    {
     "data": {
      "text/html": [
       "<div>\n",
       "<style scoped>\n",
       "    .dataframe tbody tr th:only-of-type {\n",
       "        vertical-align: middle;\n",
       "    }\n",
       "\n",
       "    .dataframe tbody tr th {\n",
       "        vertical-align: top;\n",
       "    }\n",
       "\n",
       "    .dataframe thead tr th {\n",
       "        text-align: left;\n",
       "    }\n",
       "\n",
       "    .dataframe thead tr:last-of-type th {\n",
       "        text-align: right;\n",
       "    }\n",
       "</style>\n",
       "<table border=\"1\" class=\"dataframe\">\n",
       "  <thead>\n",
       "    <tr>\n",
       "      <th></th>\n",
       "      <th>pos_snt</th>\n",
       "      <th>neg_snt</th>\n",
       "      <th>neu_snt</th>\n",
       "      <th>comp_snt</th>\n",
       "    </tr>\n",
       "    <tr>\n",
       "      <th></th>\n",
       "      <th>sum</th>\n",
       "      <th>sum</th>\n",
       "      <th>sum</th>\n",
       "      <th>sum</th>\n",
       "    </tr>\n",
       "    <tr>\n",
       "      <th>Date</th>\n",
       "      <th></th>\n",
       "      <th></th>\n",
       "      <th></th>\n",
       "      <th></th>\n",
       "    </tr>\n",
       "  </thead>\n",
       "  <tbody>\n",
       "    <tr>\n",
       "      <th>2018-04-18</th>\n",
       "      <td>195.117</td>\n",
       "      <td>122.673</td>\n",
       "      <td>1706.218</td>\n",
       "      <td>140.0759</td>\n",
       "    </tr>\n",
       "    <tr>\n",
       "      <th>2018-04-19</th>\n",
       "      <td>175.060</td>\n",
       "      <td>72.779</td>\n",
       "      <td>1629.152</td>\n",
       "      <td>210.7927</td>\n",
       "    </tr>\n",
       "    <tr>\n",
       "      <th>2018-04-20</th>\n",
       "      <td>192.303</td>\n",
       "      <td>82.121</td>\n",
       "      <td>1606.592</td>\n",
       "      <td>248.4064</td>\n",
       "    </tr>\n",
       "  </tbody>\n",
       "</table>\n",
       "</div>"
      ],
      "text/plain": [
       "            pos_snt  neg_snt   neu_snt  comp_snt\n",
       "                sum      sum       sum       sum\n",
       "Date                                            \n",
       "2018-04-18  195.117  122.673  1706.218  140.0759\n",
       "2018-04-19  175.060   72.779  1629.152  210.7927\n",
       "2018-04-20  192.303   82.121  1606.592  248.4064"
      ]
     },
     "execution_count": 148,
     "metadata": {},
     "output_type": "execute_result"
    }
   ],
   "source": [
    "df_new.index.names = ['Date']\n",
    "df_new\n"
   ]
  },
  {
   "cell_type": "code",
   "execution_count": 145,
   "metadata": {},
   "outputs": [
    {
     "data": {
      "text/html": [
       "<div>\n",
       "<style scoped>\n",
       "    .dataframe tbody tr th:only-of-type {\n",
       "        vertical-align: middle;\n",
       "    }\n",
       "\n",
       "    .dataframe tbody tr th {\n",
       "        vertical-align: top;\n",
       "    }\n",
       "\n",
       "    .dataframe thead th {\n",
       "        text-align: right;\n",
       "    }\n",
       "</style>\n",
       "<table border=\"1\" class=\"dataframe\">\n",
       "  <thead>\n",
       "    <tr style=\"text-align: right;\">\n",
       "      <th></th>\n",
       "      <th>Open</th>\n",
       "      <th>High</th>\n",
       "      <th>Low</th>\n",
       "      <th>Close</th>\n",
       "      <th>Volume (BTC)</th>\n",
       "      <th>Volume (Currency)</th>\n",
       "      <th>Weighted Price</th>\n",
       "    </tr>\n",
       "    <tr>\n",
       "      <th>Date</th>\n",
       "      <th></th>\n",
       "      <th></th>\n",
       "      <th></th>\n",
       "      <th></th>\n",
       "      <th></th>\n",
       "      <th></th>\n",
       "      <th></th>\n",
       "    </tr>\n",
       "  </thead>\n",
       "  <tbody>\n",
       "    <tr>\n",
       "      <th>2018-04-18</th>\n",
       "      <td>7893.0</td>\n",
       "      <td>8308.0</td>\n",
       "      <td>7865.0</td>\n",
       "      <td>8170.0</td>\n",
       "      <td>5577.110378</td>\n",
       "      <td>4.503784e+07</td>\n",
       "      <td>8075.479888</td>\n",
       "    </tr>\n",
       "    <tr>\n",
       "      <th>2018-04-19</th>\n",
       "      <td>8170.6</td>\n",
       "      <td>8308.0</td>\n",
       "      <td>8099.7</td>\n",
       "      <td>8275.7</td>\n",
       "      <td>3584.325377</td>\n",
       "      <td>2.945564e+07</td>\n",
       "      <td>8217.902645</td>\n",
       "    </tr>\n",
       "    <tr>\n",
       "      <th>2018-04-20</th>\n",
       "      <td>8267.5</td>\n",
       "      <td>8943.8</td>\n",
       "      <td>8226.0</td>\n",
       "      <td>8875.0</td>\n",
       "      <td>7749.022485</td>\n",
       "      <td>6.604851e+07</td>\n",
       "      <td>8523.463234</td>\n",
       "    </tr>\n",
       "  </tbody>\n",
       "</table>\n",
       "</div>"
      ],
      "text/plain": [
       "              Open    High     Low   Close  Volume (BTC)  Volume (Currency)  \\\n",
       "Date                                                                          \n",
       "2018-04-18  7893.0  8308.0  7865.0  8170.0   5577.110378       4.503784e+07   \n",
       "2018-04-19  8170.6  8308.0  8099.7  8275.7   3584.325377       2.945564e+07   \n",
       "2018-04-20  8267.5  8943.8  8226.0  8875.0   7749.022485       6.604851e+07   \n",
       "\n",
       "            Weighted Price  \n",
       "Date                        \n",
       "2018-04-18     8075.479888  \n",
       "2018-04-19     8217.902645  \n",
       "2018-04-20     8523.463234  "
      ]
     },
     "execution_count": 145,
     "metadata": {},
     "output_type": "execute_result"
    }
   ],
   "source": [
    "price_data_df"
   ]
  },
  {
   "cell_type": "code",
   "execution_count": 150,
   "metadata": {},
   "outputs": [],
   "source": [
    "combined_df = pd.concat([df_new, price_data_df],axis=1)"
   ]
  },
  {
   "cell_type": "code",
   "execution_count": 151,
   "metadata": {},
   "outputs": [],
   "source": [
    "combined_df.columns=['Pos','Neg','Neu','Comp','Open','High','Low','Close','Volume','Currency','Price']"
   ]
  },
  {
   "cell_type": "code",
   "execution_count": 152,
   "metadata": {},
   "outputs": [
    {
     "data": {
      "text/html": [
       "<div>\n",
       "<style scoped>\n",
       "    .dataframe tbody tr th:only-of-type {\n",
       "        vertical-align: middle;\n",
       "    }\n",
       "\n",
       "    .dataframe tbody tr th {\n",
       "        vertical-align: top;\n",
       "    }\n",
       "\n",
       "    .dataframe thead th {\n",
       "        text-align: right;\n",
       "    }\n",
       "</style>\n",
       "<table border=\"1\" class=\"dataframe\">\n",
       "  <thead>\n",
       "    <tr style=\"text-align: right;\">\n",
       "      <th></th>\n",
       "      <th>Pos</th>\n",
       "      <th>Neg</th>\n",
       "      <th>Neu</th>\n",
       "      <th>Comp</th>\n",
       "      <th>Open</th>\n",
       "      <th>High</th>\n",
       "      <th>Low</th>\n",
       "      <th>Close</th>\n",
       "      <th>Volume</th>\n",
       "      <th>Currency</th>\n",
       "      <th>Price</th>\n",
       "    </tr>\n",
       "    <tr>\n",
       "      <th>Date</th>\n",
       "      <th></th>\n",
       "      <th></th>\n",
       "      <th></th>\n",
       "      <th></th>\n",
       "      <th></th>\n",
       "      <th></th>\n",
       "      <th></th>\n",
       "      <th></th>\n",
       "      <th></th>\n",
       "      <th></th>\n",
       "      <th></th>\n",
       "    </tr>\n",
       "  </thead>\n",
       "  <tbody>\n",
       "    <tr>\n",
       "      <th>2018-04-18</th>\n",
       "      <td>195.117</td>\n",
       "      <td>122.673</td>\n",
       "      <td>1706.218</td>\n",
       "      <td>140.0759</td>\n",
       "      <td>7893.0</td>\n",
       "      <td>8308.0</td>\n",
       "      <td>7865.0</td>\n",
       "      <td>8170.0</td>\n",
       "      <td>5577.110378</td>\n",
       "      <td>4.503784e+07</td>\n",
       "      <td>8075.479888</td>\n",
       "    </tr>\n",
       "    <tr>\n",
       "      <th>2018-04-19</th>\n",
       "      <td>175.060</td>\n",
       "      <td>72.779</td>\n",
       "      <td>1629.152</td>\n",
       "      <td>210.7927</td>\n",
       "      <td>8170.6</td>\n",
       "      <td>8308.0</td>\n",
       "      <td>8099.7</td>\n",
       "      <td>8275.7</td>\n",
       "      <td>3584.325377</td>\n",
       "      <td>2.945564e+07</td>\n",
       "      <td>8217.902645</td>\n",
       "    </tr>\n",
       "    <tr>\n",
       "      <th>2018-04-20</th>\n",
       "      <td>192.303</td>\n",
       "      <td>82.121</td>\n",
       "      <td>1606.592</td>\n",
       "      <td>248.4064</td>\n",
       "      <td>8267.5</td>\n",
       "      <td>8943.8</td>\n",
       "      <td>8226.0</td>\n",
       "      <td>8875.0</td>\n",
       "      <td>7749.022485</td>\n",
       "      <td>6.604851e+07</td>\n",
       "      <td>8523.463234</td>\n",
       "    </tr>\n",
       "  </tbody>\n",
       "</table>\n",
       "</div>"
      ],
      "text/plain": [
       "                Pos      Neg       Neu      Comp    Open    High     Low  \\\n",
       "Date                                                                       \n",
       "2018-04-18  195.117  122.673  1706.218  140.0759  7893.0  8308.0  7865.0   \n",
       "2018-04-19  175.060   72.779  1629.152  210.7927  8170.6  8308.0  8099.7   \n",
       "2018-04-20  192.303   82.121  1606.592  248.4064  8267.5  8943.8  8226.0   \n",
       "\n",
       "             Close       Volume      Currency        Price  \n",
       "Date                                                        \n",
       "2018-04-18  8170.0  5577.110378  4.503784e+07  8075.479888  \n",
       "2018-04-19  8275.7  3584.325377  2.945564e+07  8217.902645  \n",
       "2018-04-20  8875.0  7749.022485  6.604851e+07  8523.463234  "
      ]
     },
     "execution_count": 152,
     "metadata": {},
     "output_type": "execute_result"
    }
   ],
   "source": [
    "combined_df"
   ]
  },
  {
   "cell_type": "code",
   "execution_count": 163,
   "metadata": {},
   "outputs": [
    {
     "name": "stdout",
     "output_type": "stream",
     "text": [
      "<class 'pandas.core.frame.DataFrame'>\n",
      "DatetimeIndex: 3 entries, 2018-04-18 to 2018-04-20\n",
      "Freq: D\n",
      "Data columns (total 11 columns):\n",
      "Pos         3 non-null float64\n",
      "Neg         3 non-null float64\n",
      "Neu         3 non-null float64\n",
      "Comp        3 non-null float64\n",
      "Open        3 non-null float64\n",
      "High        3 non-null float64\n",
      "Low         3 non-null float64\n",
      "Close       3 non-null float64\n",
      "Volume      3 non-null float64\n",
      "Currency    3 non-null float64\n",
      "Price       3 non-null float64\n",
      "dtypes: float64(11)\n",
      "memory usage: 288.0 bytes\n"
     ]
    }
   ],
   "source": [
    "combined_df.info()"
   ]
  },
  {
   "cell_type": "code",
   "execution_count": 164,
   "metadata": {},
   "outputs": [],
   "source": [
    "combined_df.index = combined_df.index.to_datetime()"
   ]
  },
  {
   "cell_type": "code",
   "execution_count": 165,
   "metadata": {},
   "outputs": [
    {
     "data": {
      "image/png": "[encoded data removed]",
      "text/plain": [
       "<matplotlib.figure.Figure at 0x23e90067908>"
      ]
     },
     "metadata": {},
     "output_type": "display_data"
    }
   ],
   "source": [
    "values = combined_df.values\n",
    "# specify columns to plot\n",
    "groups = [ 1,2]\n",
    "i = 1\n",
    "# plot each column\n",
    "plt.figure()\n",
    "for group in groups:\n",
    "\tplt.subplot(len(groups), 1, i)\n",
    "\tplt.plot(values[:, group])\n",
    "\tplt.title(df.columns[group], y=0.5, loc='right')\n",
    "\ti += 1\n",
    "plt.show()"
   ]
  },
  {
   "cell_type": "code",
   "execution_count": 169,
   "metadata": {},
   "outputs": [],
   "source": [
    "# Feature Scaling. This will capture trend information and makes visualization more meaningful\n",
    "\n",
    "from sklearn.preprocessing import StandardScaler\n",
    "sc_x = StandardScaler()\n",
    "combined_df['Pos'] = sc_x.fit_transform(combined_df['Pos'].values.reshape(-1,1))\n",
    "combined_df['Neg'] = sc_x.fit_transform(combined_df['Neg'].values.reshape(-1,1))\n",
    "combined_df['Price'] = sc_x.fit_transform(combined_df['Price'].values.reshape(-1,1))\n",
    "combined_df['Volume'] = sc_x.fit_transform(combined_df['Volume'].values.reshape(-1,1))"
   ]
  },
  {
   "cell_type": "code",
   "execution_count": 170,
   "metadata": {},
   "outputs": [
    {
     "data": {
      "image/png": "[encoded data removed]",
      "text/plain": [
       "<matplotlib.figure.Figure at 0x23e8f4e2c18>"
      ]
     },
     "metadata": {},
     "output_type": "display_data"
    }
   ],
   "source": [
    "# Plot 4- scaled overlay plot of Date & Sentiments /BTC prices/Volume \n",
    "%matplotlib inline\n",
    "import matplotlib.pyplot as plt\n",
    "import seaborn as sns\n",
    "sns.set()\n",
    "\n",
    "plt.plot(combined_df.index, combined_df['Pos'], color='blue')\n",
    "plt.plot(combined_df.index, combined_df['Neg'], color='green')\n",
    "plt.plot(combined_df.index, combined_df['Price'], color='red')\n",
    "plt.plot(combined_df.index, combined_df['Volume'], color='orange')\n",
    "plt.legend(loc='upper left')\n",
    "plt.xlabel('Date')\n",
    "plt.ylabel('Prices / Sentiments')\n",
    "plt.title('Plot 4')\n",
    "plt.show()"
   ]
  },
  {
   "cell_type": "code",
   "execution_count": null,
   "metadata": {},
   "outputs": [],
   "source": []
  }
 ],
 "metadata": {
  "kernelspec": {
   "display_name": "Python 3",
   "language": "python",
   "name": "python3"
  },
  "language_info": {
   "codemirror_mode": {
    "name": "ipython",
    "version": 3
   },
   "file_extension": ".py",
   "mimetype": "text/x-python",
   "name": "python",
   "nbconvert_exporter": "python",
   "pygments_lexer": "ipython3",
   "version": "3.6.4"
  }
 },
 "nbformat": 4,
 "nbformat_minor": 2
}
